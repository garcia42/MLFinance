{
 "cells": [
  {
   "cell_type": "code",
   "execution_count": 5,
   "metadata": {},
   "outputs": [],
   "source": [
    "# Standard library modules\n",
    "import asyncio\n",
    "import os\n",
    "from pathlib import Path\n",
    "\n",
    "# Third-party modules\n",
    "import matplotlib.pyplot as plt\n",
    "import numpy as np\n",
    "import pandas as pd\n",
    "import seaborn as sns\n",
    "import statsmodels.api as sm\n",
    "from sklearn.ensemble import RandomForestClassifier\n",
    "from sklearn.metrics import accuracy_score, log_loss\n",
    "\n",
    "# FinancialMachineLearning modules\n",
    "from FinancialMachineLearning.cross_validation.combinatorial import CombinatorialPurgedKFold\n",
    "from FinancialMachineLearning.cross_validation.cross_validation import PurgedKFold, cross_val_score, get_train_times\n",
    "from FinancialMachineLearning.sample_weights.bootstrapping import *\n",
    "\n",
    "# Claude modules\n",
    "from claude.feature_storage import FeatureStorage\n",
    "from claude.train_model import build_model\n",
    "from claude.validate import _split_data"
   ]
  },
  {
   "cell_type": "code",
   "execution_count": null,
   "metadata": {},
   "outputs": [],
   "source": [
    "fs = FeatureStorage(str(Path(os.getcwd()) / \"claude/Data/financial_features.parquet\"))\n",
    "data = fs.load_existing_features()[0]"
   ]
  },
  {
   "cell_type": "code",
   "execution_count": null,
   "metadata": {},
   "outputs": [],
   "source": [
    "data"
   ]
  },
  {
   "cell_type": "code",
   "execution_count": null,
   "metadata": {},
   "outputs": [],
   "source": [
    "model = build_model(features=data, use_cache=False)"
   ]
  },
  {
   "cell_type": "code",
   "execution_count": null,
   "metadata": {},
   "outputs": [],
   "source": [
    "model"
   ]
  },
  {
   "cell_type": "code",
   "execution_count": null,
   "metadata": {},
   "outputs": [],
   "source": [
    "X_train, X_test = _split_data(model.X_clean, \"2023-01-01\")\n",
    "y_train, y_test = _split_data(model.y_size, \"2023-01-01\")"
   ]
  },
  {
   "cell_type": "code",
   "execution_count": null,
   "metadata": {},
   "outputs": [],
   "source": [
    "X_train"
   ]
  },
  {
   "cell_type": "code",
   "execution_count": null,
   "metadata": {},
   "outputs": [],
   "source": [
    "X_test"
   ]
  },
  {
   "cell_type": "code",
   "execution_count": null,
   "metadata": {},
   "outputs": [],
   "source": [
    "y_train"
   ]
  },
  {
   "cell_type": "code",
   "execution_count": null,
   "metadata": {},
   "outputs": [],
   "source": [
    "y_test"
   ]
  },
  {
   "cell_type": "code",
   "execution_count": null,
   "metadata": {},
   "outputs": [],
   "source": [
    "class SequentialRandomForestClassifier(RandomForestClassifier):\n",
    "    def _generate_sample_indices(self, random_state, n_samples):\n",
    "        \"\"\"Generate bootstrap sample indices with sequential bootstrap method.\"\"\"\n",
    "        random_instance = random_state  # get the RandomState instance\n",
    "        \n",
    "        ind_mat = get_indicator_matrix(\n",
    "            model.triple_barrier_events.index.to_series(),\n",
    "            model.triple_barrier_events['t1']\n",
    "        )\n",
    "        \n",
    "        sample_indices = seq_bootstrap(ind_mat, n_samples)\n",
    "        \n",
    "        return sample_indices"
   ]
  },
  {
   "cell_type": "code",
   "execution_count": null,
   "metadata": {},
   "outputs": [],
   "source": [
    "forest = SequentialRandomForestClassifier(\n",
    "    criterion = 'entropy',\n",
    "    class_weight = 'balanced_subsample',\n",
    "    random_state = 42,\n",
    "    n_estimators = 100,\n",
    "    max_features = 3, # early stopping\n",
    "    min_weight_fraction_leaf = 0.05, # early stopping\n",
    "    oob_score = True\n",
    ")\n",
    "\n",
    "forest_fit = forest.fit(\n",
    "    X = X_train, \n",
    "    y = y_train, \n",
    "    sample_weight = model.avg_uniq.loc[X_train.index].to_numpy().reshape(1, -1)[0]\n",
    ")"
   ]
  },
  {
   "cell_type": "code",
   "execution_count": null,
   "metadata": {},
   "outputs": [],
   "source": [
    "train_times, test_times = model.triple_barrier_events.loc[:'2019'], model.triple_barrier_events.loc['2019':]"
   ]
  },
  {
   "cell_type": "code",
   "execution_count": null,
   "metadata": {},
   "outputs": [],
   "source": [
    "train_times = get_train_times(train_times['t1'], test_times['t1'])"
   ]
  },
  {
   "cell_type": "code",
   "execution_count": null,
   "metadata": {},
   "outputs": [],
   "source": [
    "train_times.head()"
   ]
  },
  {
   "cell_type": "code",
   "execution_count": null,
   "metadata": {},
   "outputs": [],
   "source": [
    "purged_k_fold = PurgedKFold(\n",
    "    n_splits = 10,\n",
    "    samples_info_sets = model.triple_barrier_events['t1'].loc[X_train.index],\n",
    "    pct_embargo = 0.01\n",
    ")"
   ]
  },
  {
   "cell_type": "code",
   "execution_count": null,
   "metadata": {},
   "outputs": [],
   "source": [
    "cross_validation_score = cross_val_score(\n",
    "    classifier = forest,\n",
    "    X = X_train,\n",
    "    y = y_train,\n",
    "    sample_weight = model.avg_uniq.loc[X_train.index].to_numpy().reshape(1, -1)[0],\n",
    "    cv_gen = purged_k_fold,\n",
    "    scoring = log_loss\n",
    ")"
   ]
  },
  {
   "cell_type": "code",
   "execution_count": null,
   "metadata": {},
   "outputs": [],
   "source": [
    "fig, ax = plt.subplots(figsize = (8, 4))\n",
    "ax.bar(\n",
    "    range(10),\n",
    "    -cross_validation_score,\n",
    "    width = 0.75,\n",
    "    alpha = 0.7,\n",
    "    edgecolor = 'none'\n",
    ")\n",
    "for spine in ax.spines.values():\n",
    "    spine.set_visible(False)\n",
    "ax.grid(False)\n",
    "ax.yaxis.grid(True, ls = ':', alpha = 0.5)\n",
    "plt.axhline(\n",
    "    y = np.mean(-cross_validation_score),\n",
    "    ls = '-.',\n",
    "    color = 'lightgray',\n",
    "    alpha = 0.8,\n",
    "    label = f'mean = {np.mean(-cross_validation_score) * 100 : .2f}%'\n",
    ")\n",
    "plt.legend()\n",
    "plt.title('Purged Cross Validation Scores | Random Forest | Ticker : ES')\n",
    "plt.show()"
   ]
  },
  {
   "cell_type": "code",
   "execution_count": null,
   "metadata": {},
   "outputs": [],
   "source": [
    "samples_info_sets = model.triple_barrier_events['t1'].loc[X_train.index]"
   ]
  },
  {
   "cell_type": "code",
   "execution_count": null,
   "metadata": {},
   "outputs": [],
   "source": [
    "comb_purge_fold = CombinatorialPurgedKFold(\n",
    "    n_splits = 5,\n",
    "    n_test_splits = 2, \n",
    "    samples_info_sets = samples_info_sets, \n",
    "    pct_embargo = 0.06\n",
    ")\n",
    "\n",
    "for train_indices, test_indices in comb_purge_fold.split(X_train, y_train):\n",
    "    X_train_valid, X_test_valid = X_train.iloc[train_indices], X_train.iloc[test_indices]\n",
    "    y_train_valid, y_test_valid = y_train.iloc[train_indices], y_train.iloc[test_indices]\n",
    "\n",
    "    clf = RandomForestClassifier(random_state = 42)\n",
    "    clf.fit(X_train_valid, y_train_valid)\n",
    "    \n",
    "    y_pred = clf.predict(X_test_valid)\n",
    "    accuracy = accuracy_score(y_test_valid, y_pred)\n",
    "    print(f'Accuracy: {accuracy:.4f}')"
   ]
  }
 ],
 "metadata": {
  "kernelspec": {
   "display_name": "Python 3 (ipykernel)",
   "language": "python",
   "name": "python3"
  }
 },
 "nbformat": 4,
 "nbformat_minor": 2
}
