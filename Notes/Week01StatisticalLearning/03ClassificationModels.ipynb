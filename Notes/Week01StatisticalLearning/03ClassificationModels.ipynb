{
 "cells": [
  {
   "metadata": {},
   "cell_type": "markdown",
   "source": "## Classification Models",
   "id": "ec53bca13b2fbc04"
  },
  {
   "metadata": {
    "ExecuteTime": {
     "end_time": "2024-09-08T13:13:35.887509Z",
     "start_time": "2024-09-08T13:13:35.854428Z"
    }
   },
   "cell_type": "code",
   "source": [
    "import numpy as np\n",
    "import pandas as pd\n",
    "import matplotlib.pyplot as plt\n",
    "import seaborn as sns\n",
    "\n",
    "data = pd.read_csv('../../Data/GDP.csv', index_col = 0)"
   ],
   "id": "d6956db4a43fb913",
   "outputs": [],
   "execution_count": 8
  },
  {
   "metadata": {
    "ExecuteTime": {
     "end_time": "2024-09-08T13:13:36.333733Z",
     "start_time": "2024-09-08T13:13:36.319636Z"
    }
   },
   "cell_type": "code",
   "source": "data.head()",
   "id": "954a83ba055232b5",
   "outputs": [
    {
     "data": {
      "text/plain": [
       "             agricultural rate  armed forces size  birth rate  CO2 emissions  \\\n",
       "Country                                                                        \n",
       "Afghanistan              0.581           323000.0      0.3249         8672.0   \n",
       "Albania                  0.431             9000.0      0.1178         4536.0   \n",
       "Algeria                  0.174           317000.0      0.2428       150006.0   \n",
       "Andorra                  0.400                0.0      0.0720          469.0   \n",
       "Angola                   0.475           117000.0      0.4073        34693.0   \n",
       "\n",
       "                    CPI  Fertility rate  forested area  gasoline price  \\\n",
       "Country                                                                  \n",
       "Afghanistan  149.900000          0.0447          0.021            0.70   \n",
       "Albania      119.050000          0.0162          0.281            1.36   \n",
       "Algeria      151.360000          0.0302          0.008            0.28   \n",
       "Andorra      190.460955          0.0127          0.340            1.51   \n",
       "Angola       261.730000          0.0552          0.463            0.97   \n",
       "\n",
       "             gross primary education  gross tertiary deucation  ...  \\\n",
       "Country                                                         ...   \n",
       "Afghanistan                    1.040                     0.097  ...   \n",
       "Albania                        1.070                     0.550  ...   \n",
       "Algeria                        1.099                     0.514  ...   \n",
       "Andorra                        1.064                     0.000  ...   \n",
       "Angola                         1.135                     0.093  ...   \n",
       "\n",
       "             minimum wage  health expenditure  physician ratio  \\\n",
       "Country                                                          \n",
       "Afghanistan          0.43               0.784             0.28   \n",
       "Albania              1.12               0.569             1.20   \n",
       "Algeria              0.95               0.281             1.72   \n",
       "Andorra              6.63               0.364             3.33   \n",
       "Angola               0.71               0.334             0.21   \n",
       "\n",
       "             labor force participation  tax revenue  total tax rate  \\\n",
       "Country                                                               \n",
       "Afghanistan                   0.489000      0.09300        0.714000   \n",
       "Albania                       0.557000      0.18600        0.366000   \n",
       "Algeria                       0.412000      0.37200        0.661000   \n",
       "Andorra                       0.627381      0.16574        0.408224   \n",
       "Angola                        0.775000      0.09200        0.491000   \n",
       "\n",
       "             unemployment rate  GDP per Capita  urban population rate  label  \n",
       "Country                                                                       \n",
       "Afghanistan           0.111200      502.115487               0.257540      0  \n",
       "Albania               0.123300     5352.857411               0.612290      0  \n",
       "Algeria               0.117000     3948.343279               0.731890      0  \n",
       "Andorra               0.068864    40886.391162               0.879845      1  \n",
       "Angola                0.068900     2973.591160               0.661770      0  \n",
       "\n",
       "[5 rows x 23 columns]"
      ],
      "text/html": [
       "<div>\n",
       "<style scoped>\n",
       "    .dataframe tbody tr th:only-of-type {\n",
       "        vertical-align: middle;\n",
       "    }\n",
       "\n",
       "    .dataframe tbody tr th {\n",
       "        vertical-align: top;\n",
       "    }\n",
       "\n",
       "    .dataframe thead th {\n",
       "        text-align: right;\n",
       "    }\n",
       "</style>\n",
       "<table border=\"1\" class=\"dataframe\">\n",
       "  <thead>\n",
       "    <tr style=\"text-align: right;\">\n",
       "      <th></th>\n",
       "      <th>agricultural rate</th>\n",
       "      <th>armed forces size</th>\n",
       "      <th>birth rate</th>\n",
       "      <th>CO2 emissions</th>\n",
       "      <th>CPI</th>\n",
       "      <th>Fertility rate</th>\n",
       "      <th>forested area</th>\n",
       "      <th>gasoline price</th>\n",
       "      <th>gross primary education</th>\n",
       "      <th>gross tertiary deucation</th>\n",
       "      <th>...</th>\n",
       "      <th>minimum wage</th>\n",
       "      <th>health expenditure</th>\n",
       "      <th>physician ratio</th>\n",
       "      <th>labor force participation</th>\n",
       "      <th>tax revenue</th>\n",
       "      <th>total tax rate</th>\n",
       "      <th>unemployment rate</th>\n",
       "      <th>GDP per Capita</th>\n",
       "      <th>urban population rate</th>\n",
       "      <th>label</th>\n",
       "    </tr>\n",
       "    <tr>\n",
       "      <th>Country</th>\n",
       "      <th></th>\n",
       "      <th></th>\n",
       "      <th></th>\n",
       "      <th></th>\n",
       "      <th></th>\n",
       "      <th></th>\n",
       "      <th></th>\n",
       "      <th></th>\n",
       "      <th></th>\n",
       "      <th></th>\n",
       "      <th></th>\n",
       "      <th></th>\n",
       "      <th></th>\n",
       "      <th></th>\n",
       "      <th></th>\n",
       "      <th></th>\n",
       "      <th></th>\n",
       "      <th></th>\n",
       "      <th></th>\n",
       "      <th></th>\n",
       "      <th></th>\n",
       "    </tr>\n",
       "  </thead>\n",
       "  <tbody>\n",
       "    <tr>\n",
       "      <th>Afghanistan</th>\n",
       "      <td>0.581</td>\n",
       "      <td>323000.0</td>\n",
       "      <td>0.3249</td>\n",
       "      <td>8672.0</td>\n",
       "      <td>149.900000</td>\n",
       "      <td>0.0447</td>\n",
       "      <td>0.021</td>\n",
       "      <td>0.70</td>\n",
       "      <td>1.040</td>\n",
       "      <td>0.097</td>\n",
       "      <td>...</td>\n",
       "      <td>0.43</td>\n",
       "      <td>0.784</td>\n",
       "      <td>0.28</td>\n",
       "      <td>0.489000</td>\n",
       "      <td>0.09300</td>\n",
       "      <td>0.714000</td>\n",
       "      <td>0.111200</td>\n",
       "      <td>502.115487</td>\n",
       "      <td>0.257540</td>\n",
       "      <td>0</td>\n",
       "    </tr>\n",
       "    <tr>\n",
       "      <th>Albania</th>\n",
       "      <td>0.431</td>\n",
       "      <td>9000.0</td>\n",
       "      <td>0.1178</td>\n",
       "      <td>4536.0</td>\n",
       "      <td>119.050000</td>\n",
       "      <td>0.0162</td>\n",
       "      <td>0.281</td>\n",
       "      <td>1.36</td>\n",
       "      <td>1.070</td>\n",
       "      <td>0.550</td>\n",
       "      <td>...</td>\n",
       "      <td>1.12</td>\n",
       "      <td>0.569</td>\n",
       "      <td>1.20</td>\n",
       "      <td>0.557000</td>\n",
       "      <td>0.18600</td>\n",
       "      <td>0.366000</td>\n",
       "      <td>0.123300</td>\n",
       "      <td>5352.857411</td>\n",
       "      <td>0.612290</td>\n",
       "      <td>0</td>\n",
       "    </tr>\n",
       "    <tr>\n",
       "      <th>Algeria</th>\n",
       "      <td>0.174</td>\n",
       "      <td>317000.0</td>\n",
       "      <td>0.2428</td>\n",
       "      <td>150006.0</td>\n",
       "      <td>151.360000</td>\n",
       "      <td>0.0302</td>\n",
       "      <td>0.008</td>\n",
       "      <td>0.28</td>\n",
       "      <td>1.099</td>\n",
       "      <td>0.514</td>\n",
       "      <td>...</td>\n",
       "      <td>0.95</td>\n",
       "      <td>0.281</td>\n",
       "      <td>1.72</td>\n",
       "      <td>0.412000</td>\n",
       "      <td>0.37200</td>\n",
       "      <td>0.661000</td>\n",
       "      <td>0.117000</td>\n",
       "      <td>3948.343279</td>\n",
       "      <td>0.731890</td>\n",
       "      <td>0</td>\n",
       "    </tr>\n",
       "    <tr>\n",
       "      <th>Andorra</th>\n",
       "      <td>0.400</td>\n",
       "      <td>0.0</td>\n",
       "      <td>0.0720</td>\n",
       "      <td>469.0</td>\n",
       "      <td>190.460955</td>\n",
       "      <td>0.0127</td>\n",
       "      <td>0.340</td>\n",
       "      <td>1.51</td>\n",
       "      <td>1.064</td>\n",
       "      <td>0.000</td>\n",
       "      <td>...</td>\n",
       "      <td>6.63</td>\n",
       "      <td>0.364</td>\n",
       "      <td>3.33</td>\n",
       "      <td>0.627381</td>\n",
       "      <td>0.16574</td>\n",
       "      <td>0.408224</td>\n",
       "      <td>0.068864</td>\n",
       "      <td>40886.391162</td>\n",
       "      <td>0.879845</td>\n",
       "      <td>1</td>\n",
       "    </tr>\n",
       "    <tr>\n",
       "      <th>Angola</th>\n",
       "      <td>0.475</td>\n",
       "      <td>117000.0</td>\n",
       "      <td>0.4073</td>\n",
       "      <td>34693.0</td>\n",
       "      <td>261.730000</td>\n",
       "      <td>0.0552</td>\n",
       "      <td>0.463</td>\n",
       "      <td>0.97</td>\n",
       "      <td>1.135</td>\n",
       "      <td>0.093</td>\n",
       "      <td>...</td>\n",
       "      <td>0.71</td>\n",
       "      <td>0.334</td>\n",
       "      <td>0.21</td>\n",
       "      <td>0.775000</td>\n",
       "      <td>0.09200</td>\n",
       "      <td>0.491000</td>\n",
       "      <td>0.068900</td>\n",
       "      <td>2973.591160</td>\n",
       "      <td>0.661770</td>\n",
       "      <td>0</td>\n",
       "    </tr>\n",
       "  </tbody>\n",
       "</table>\n",
       "<p>5 rows × 23 columns</p>\n",
       "</div>"
      ]
     },
     "execution_count": 9,
     "metadata": {},
     "output_type": "execute_result"
    }
   ],
   "execution_count": 9
  },
  {
   "metadata": {
    "ExecuteTime": {
     "end_time": "2024-09-08T13:13:37.695211Z",
     "start_time": "2024-09-08T13:13:37.686333Z"
    }
   },
   "cell_type": "code",
   "source": "data.drop('GDP per Capita', axis = 1, inplace = True)",
   "id": "472ba970646aba2c",
   "outputs": [],
   "execution_count": 10
  },
  {
   "metadata": {},
   "cell_type": "markdown",
   "source": [
    "### 1. Logit\n",
    "\n",
    "1958년 영국의 통계학자 Cox가 제안한 확률 모형으로써, 독립변수의 선형 결합을 이용하여 사건의 **발생 가능성**을 예측하는 데 사용되는 통계 기법이다. 독립 변수의 선형 결합으로 종속변수를 설명하는 관점에서는 선형 회귀 분석과 유사하지만, 종속변수가 범주형 데이터를 대상으로 한다는 점에서 분류 모형이라고 할 수 있다\n",
    "\n",
    "Logit Model은 종속변수 $Y_i$가 1의 값을 갖는 확률 $p_i$를 아래와 같이 가정한다\n",
    "\n",
    "$$p_i = E(Y_i) = \\frac{1}{1+e^{-\\mathbf{\\beta X_i}}}$$\n",
    "\n",
    "이진 분류 모형의 경우 아래와 같이 분류를 생각해볼 수 있다\n",
    "\n",
    "$$p(Y_i = 1) = p_i = \\frac{1}{1+e^{-\\mathbf{\\beta X_i}}} = \\frac{e^{\\mathbf{\\beta X_i}}}{1+e^{\\mathbf{\\beta X_i}}$$\n",
    "\n",
    "$$p(Y_i = 0) = 1 - p_i = \\frac{1e^{-\\mathbf{\\beta X_i}}}{1+e^{-\\mathbf{\\beta X_i}}} = \\frac{1}{1+e^{\\mathbf{\\beta X_i}}$$\n",
    "\n",
    "추정된 $\\hat{p_i}$는 각각 1인 확률과 0인 확률을 추정한다. 여기서 추정된 확률이 0.5보다 크면 1을, 0.5보다 작으면 0으로 처리하는 분류 모형을 고려할 수 있다\n",
    "\n",
    "odds ratio는 어떤 사건이 일어날 확률을 사건이 일어나지 않을 확률로 나눈 것으로, 아래와 같이 나타낼 수 있다\n",
    "\n",
    "$$\\mathrm{odds} = \\frac{p_i}{1-p_i} = e^{\\mathbf{\\beta X_i}}$$\n",
    "\n",
    "odds ratio는 상대위험도의 척도로써 다양한 곳에서 사용되지 알아두면 좋다\n"
   ],
   "id": "ea05b97b8a8df496"
  },
  {
   "cell_type": "code",
   "id": "initial_id",
   "metadata": {
    "collapsed": true,
    "ExecuteTime": {
     "end_time": "2024-09-08T13:14:13.832220Z",
     "start_time": "2024-09-08T13:14:13.807279Z"
    }
   },
   "source": [
    "import statsmodels.api as sm\n",
    "\n",
    "X = data.drop(['label','armed forces size','infant mortality','maternal mortality ratio','tax revenue','total tax rate','forested area','gasoline price','physician ratio','Fertility rate','gross primary education'], axis = 1)\n",
    "X = sm.add_constant(X)\n",
    "y = data['label']"
   ],
   "outputs": [],
   "execution_count": 18
  },
  {
   "metadata": {
    "ExecuteTime": {
     "end_time": "2024-09-08T13:14:14.171742Z",
     "start_time": "2024-09-08T13:14:14.163250Z"
    }
   },
   "cell_type": "code",
   "source": "logit_model = sm.Logit(y, X).fit()",
   "id": "729cf0d8792e73a0",
   "outputs": [
    {
     "name": "stdout",
     "output_type": "stream",
     "text": [
      "Optimization terminated successfully.\n",
      "         Current function value: 0.159294\n",
      "         Iterations 10\n"
     ]
    }
   ],
   "execution_count": 19
  },
  {
   "metadata": {
    "ExecuteTime": {
     "end_time": "2024-09-08T13:14:14.708828Z",
     "start_time": "2024-09-08T13:14:14.693731Z"
    }
   },
   "cell_type": "code",
   "source": "print(logit_model.summary())",
   "id": "ae6cd7c763b9f1db",
   "outputs": [
    {
     "name": "stdout",
     "output_type": "stream",
     "text": [
      "                           Logit Regression Results                           \n",
      "==============================================================================\n",
      "Dep. Variable:                  label   No. Observations:                  168\n",
      "Model:                          Logit   Df Residuals:                      156\n",
      "Method:                           MLE   Df Model:                           11\n",
      "Date:                Sun, 08 Sep 2024   Pseudo R-squ.:                  0.7603\n",
      "Time:                        22:14:14   Log-Likelihood:                -26.761\n",
      "converged:                       True   LL-Null:                       -111.64\n",
      "Covariance Type:            nonrobust   LLR p-value:                 1.323e-30\n",
      "=============================================================================================\n",
      "                                coef    std err          z      P>|z|      [0.025      0.975]\n",
      "---------------------------------------------------------------------------------------------\n",
      "const                       -22.2708     13.491     -1.651      0.099     -48.712       4.170\n",
      "agricultural rate            -3.7573      2.002     -1.876      0.061      -7.682       0.167\n",
      "birth rate                  -33.9648     10.581     -3.210      0.001     -54.704     -13.226\n",
      "CO2 emissions              3.599e-07   8.34e-07      0.432      0.666   -1.27e-06    1.99e-06\n",
      "CPI                           0.0022      0.001      1.585      0.113      -0.001       0.005\n",
      "gross tertiary deucation      2.6409      1.917      1.378      0.168      -1.116       6.398\n",
      "life expectancy               0.3504      0.170      2.056      0.040       0.016       0.684\n",
      "minimum wage                  0.6466      0.322      2.005      0.045       0.015       1.279\n",
      "health expenditure           -3.5470      3.176     -1.117      0.264      -9.772       2.678\n",
      "labor force participation     4.2567      5.427      0.784      0.433      -6.380      14.893\n",
      "unemployment rate           -12.3236      9.227     -1.336      0.182     -30.408       5.761\n",
      "urban population rate        -1.9883      2.426     -0.819      0.413      -6.744       2.767\n",
      "=============================================================================================\n",
      "\n",
      "Possibly complete quasi-separation: A fraction 0.33 of observations can be\n",
      "perfectly predicted. This might indicate that there is complete\n",
      "quasi-separation. In this case some parameters will not be identified.\n"
     ]
    }
   ],
   "execution_count": 20
  },
  {
   "metadata": {
    "ExecuteTime": {
     "end_time": "2024-09-08T13:15:18.386772Z",
     "start_time": "2024-09-08T13:15:18.136719Z"
    }
   },
   "cell_type": "code",
   "source": [
    "from sklearn.metrics import accuracy_score, classification_report, confusion_matrix\n",
    "y_pred_prob = logit_model.predict(X)\n",
    "y_pred = (logit_model.predict(X) > 0.5).astype(int)\n",
    "\n",
    "print(classification_report(y, y_pred))"
   ],
   "id": "142c846eb072c435",
   "outputs": [
    {
     "name": "stdout",
     "output_type": "stream",
     "text": [
      "              precision    recall  f1-score   support\n",
      "\n",
      "           0       0.94      0.94      0.94       104\n",
      "           1       0.91      0.91      0.91        64\n",
      "\n",
      "    accuracy                           0.93       168\n",
      "   macro avg       0.92      0.92      0.92       168\n",
      "weighted avg       0.93      0.93      0.93       168\n",
      "\n"
     ]
    }
   ],
   "execution_count": 21
  },
  {
   "metadata": {
    "ExecuteTime": {
     "end_time": "2024-09-08T13:17:21.624010Z",
     "start_time": "2024-09-08T13:17:21.518947Z"
    }
   },
   "cell_type": "code",
   "source": [
    "import seaborn as sns\n",
    "import matplotlib.pyplot as plt\n",
    "cm = confusion_matrix(y, y_pred)\n",
    "plt.figure(figsize = (3, 3))\n",
    "sns.heatmap(cm, annot = True, fmt = 'd', cbar = False)\n",
    "plt.xlabel('Predicted')\n",
    "plt.ylabel('True')\n",
    "plt.title('Confusion Matrix')\n",
    "plt.show()"
   ],
   "id": "6d19cd65d31b15b4",
   "outputs": [
    {
     "data": {
      "text/plain": [
       "<Figure size 300x300 with 1 Axes>"
      ],
      "image/png": "[encoded data removed]"
     },
     "metadata": {},
     "output_type": "display_data"
    }
   ],
   "execution_count": 23
  },
  {
   "metadata": {},
   "cell_type": "markdown",
   "source": [
    "Model이 얼마나 잘 분류했는지를 보는 과정 중 가장 유명한 것은 위와같이 **혼동 행렬(Confusion Matrix)** 를 보는 것이다. 혼동 행렬은 아래와 같이 나타낸다\n",
    "\n",
    "<center>\n",
    "\n",
    "|                     | Predicted positive | Predicted negative |\n",
    "|:-------------------:|:------------------:|:------------------:|\n",
    "| **Actual positive** |   True Positive    |   False negative   |\n",
    "| **Actual negative** |   False positive   |   True Negative    |\n",
    "\n",
    "</center>\n"
   ],
   "id": "e78ad5eb714f60d0"
  },
  {
   "metadata": {
    "ExecuteTime": {
     "end_time": "2024-09-08T13:32:20.874119Z",
     "start_time": "2024-09-08T13:32:20.196662Z"
    }
   },
   "cell_type": "code",
   "source": [
    "from sklearn.metrics import roc_auc_score, classification_report, roc_curve\n",
    "from sklearn.metrics import auc\n",
    "\n",
    "y_pred_prob = logit_model.predict(X)\n",
    "fpr, tpr, thresholds = roc_curve(y, y_pred_prob)\n",
    "roc_auc = auc(fpr, tpr)\n",
    "\n",
    "fig, ax = plt.subplots(figsize = (8, 5))\n",
    "ax.plot(fpr, tpr, label = f'Logit Model (AUC : {roc_auc : .2f})', alpha = 0.8)\n",
    "ax.plot([0, 1], [0, 1], 'k:')\n",
    "for spine in ax.spines.values():\n",
    "    spine.set_visible(False)\n",
    "ax.grid(False)\n",
    "plt.xlabel('False Positive Rate')\n",
    "plt.ylabel('True Positive Rate')\n",
    "ax.yaxis.grid(True, ls = ':', alpha = 0.5) \n",
    "plt.legend()\n",
    "plt.title('ROC Curve with Logit Model')\n",
    "plt.show()"
   ],
   "id": "bcabe933dd1d6078",
   "outputs": [
    {
     "data": {
      "text/plain": [
       "<Figure size 800x500 with 1 Axes>"
      ],
      "image/png": "[encoded data removed]"
     },
     "metadata": {},
     "output_type": "display_data"
    }
   ],
   "execution_count": 44
  },
  {
   "metadata": {},
   "cell_type": "markdown",
   "source": [
    "### 2. Probit\n",
    "\n",
    "Probit Model은 종속변수 $Y_i$기 1의 값을 갖는 확률이 다음과 같이 계산되는 모형이다\n",
    "\n",
    "$$p_i = \\int_{- \\infty}^{\\mathbf{\\beta X_i}} \\frac{1}{\\sqrt{2\\pi}} e^{-0.5\\epsilon^2} d \\epsilon \\equiv \\Phi (\\mathbf{\\beta X_i})$$\n",
    "\n",
    "여기서 $\\Phi (\\mathbf{\\beta X_i})$는 표준정규분포의 누정분포함수를 나타내며, Logit Model과 같이 0과 1 사이의 값을 가지는 확률을 추정한다\n",
    "\n",
    "한편, 모형의 parameter는 일반적인 선형모델처럼 바로 구할 수는 없으며, Maximum Likelihood Extimation을 사용하여 구할 수 있다. \n",
    "\n",
    "Logit Model과 Probit Model 모두 고전적인 통계 모형에서 분류 모형에 해당하는 것으로, sklearn에서는 `Logistic Regression`이 같은 역할을 한다"
   ],
   "id": "6b91cde2b027a7fc"
  },
  {
   "metadata": {
    "ExecuteTime": {
     "end_time": "2024-09-08T13:22:50.792279Z",
     "start_time": "2024-09-08T13:22:50.730396Z"
    }
   },
   "cell_type": "code",
   "source": [
    "probit_model = sm.Probit(y, X).fit()\n",
    "\n",
    "print(probit_model.summary())"
   ],
   "id": "7312eee615774181",
   "outputs": [
    {
     "name": "stdout",
     "output_type": "stream",
     "text": [
      "Optimization terminated successfully.\n",
      "         Current function value: 0.157299\n",
      "         Iterations 10\n",
      "                          Probit Regression Results                           \n",
      "==============================================================================\n",
      "Dep. Variable:                  label   No. Observations:                  168\n",
      "Model:                         Probit   Df Residuals:                      156\n",
      "Method:                           MLE   Df Model:                           11\n",
      "Date:                Sun, 08 Sep 2024   Pseudo R-squ.:                  0.7633\n",
      "Time:                        22:22:50   Log-Likelihood:                -26.426\n",
      "converged:                       True   LL-Null:                       -111.64\n",
      "Covariance Type:            nonrobust   LLR p-value:                 9.628e-31\n",
      "=============================================================================================\n",
      "                                coef    std err          z      P>|z|      [0.025      0.975]\n",
      "---------------------------------------------------------------------------------------------\n",
      "const                       -13.2507      7.739     -1.712      0.087     -28.419       1.918\n",
      "agricultural rate            -2.2988      1.146     -2.007      0.045      -4.544      -0.053\n",
      "birth rate                  -19.0197      5.746     -3.310      0.001     -30.281      -7.758\n",
      "CO2 emissions              1.931e-07   3.91e-07      0.494      0.622   -5.74e-07     9.6e-07\n",
      "CPI                           0.0012      0.001      1.593      0.111      -0.000       0.003\n",
      "gross tertiary deucation      1.4763      1.017      1.452      0.146      -0.516       3.469\n",
      "life expectancy               0.2022      0.097      2.093      0.036       0.013       0.392\n",
      "minimum wage                  0.3888      0.186      2.088      0.037       0.024       0.754\n",
      "health expenditure           -1.6597      1.748     -0.950      0.342      -5.085       1.766\n",
      "labor force participation     2.4771      3.034      0.816      0.414      -3.470       8.424\n",
      "unemployment rate            -6.1581      4.891     -1.259      0.208     -15.745       3.429\n",
      "urban population rate        -0.9261      1.294     -0.716      0.474      -3.462       1.609\n",
      "=============================================================================================\n",
      "\n",
      "Possibly complete quasi-separation: A fraction 0.40 of observations can be\n",
      "perfectly predicted. This might indicate that there is complete\n",
      "quasi-separation. In this case some parameters will not be identified.\n"
     ]
    }
   ],
   "execution_count": 30
  },
  {
   "metadata": {
    "ExecuteTime": {
     "end_time": "2024-09-08T13:23:24.523302Z",
     "start_time": "2024-09-08T13:23:24.482138Z"
    }
   },
   "cell_type": "code",
   "source": [
    "y_pred_prob = probit_model.predict(X)\n",
    "y_pred = (probit_model.predict(X) > 0.5).astype(int)\n",
    "print(classification_report(y, y_pred))"
   ],
   "id": "c9c5b04747899074",
   "outputs": [
    {
     "name": "stdout",
     "output_type": "stream",
     "text": [
      "              precision    recall  f1-score   support\n",
      "\n",
      "           0       0.92      0.94      0.93       104\n",
      "           1       0.90      0.88      0.89        64\n",
      "\n",
      "    accuracy                           0.92       168\n",
      "   macro avg       0.91      0.91      0.91       168\n",
      "weighted avg       0.92      0.92      0.92       168\n",
      "\n"
     ]
    }
   ],
   "execution_count": 31
  },
  {
   "metadata": {
    "ExecuteTime": {
     "end_time": "2024-09-08T13:23:37.387820Z",
     "start_time": "2024-09-08T13:23:37.272927Z"
    }
   },
   "cell_type": "code",
   "source": [
    "cm = confusion_matrix(y, y_pred)\n",
    "plt.figure(figsize = (3, 3))\n",
    "sns.heatmap(cm, annot = True, fmt = 'd', cbar = False)\n",
    "plt.xlabel('Predicted')\n",
    "plt.ylabel('True')\n",
    "plt.title('Confusion Matrix', fontsize = 12, fontfamily = 'Serif')\n",
    "plt.show()"
   ],
   "id": "73c6eddc16ec9140",
   "outputs": [
    {
     "data": {
      "text/plain": [
       "<Figure size 300x300 with 1 Axes>"
      ],
      "image/png": "[encoded data removed]"
     },
     "metadata": {},
     "output_type": "display_data"
    }
   ],
   "execution_count": 33
  },
  {
   "metadata": {
    "ExecuteTime": {
     "end_time": "2024-09-08T13:32:39.300445Z",
     "start_time": "2024-09-08T13:32:39.101816Z"
    }
   },
   "cell_type": "code",
   "source": [
    "y_pred_prob = probit_model.predict(X)\n",
    "fpr, tpr, thresholds = roc_curve(y, y_pred_prob)\n",
    "roc_auc = auc(fpr, tpr)\n",
    "\n",
    "fig, ax = plt.subplots(figsize = (8, 5))\n",
    "ax.plot(fpr, tpr, label = f'Probit Model (AUC : {roc_auc : .2f})', alpha = 0.8)\n",
    "ax.plot([0, 1], [0, 1], 'k:')\n",
    "for spine in ax.spines.values():\n",
    "    spine.set_visible(False)\n",
    "ax.grid(False)\n",
    "plt.xlabel('False Positive Rate')\n",
    "plt.ylabel('True Positive Rate')\n",
    "ax.yaxis.grid(True, ls = ':', alpha = 0.5) \n",
    "plt.legend()\n",
    "plt.title('ROC Curve with Probit Model')\n",
    "plt.show()"
   ],
   "id": "fd79b47171872bd1",
   "outputs": [
    {
     "data": {
      "text/plain": [
       "<Figure size 800x500 with 1 Axes>"
      ],
      "image/png": "[encoded data removed]"
     },
     "metadata": {},
     "output_type": "display_data"
    }
   ],
   "execution_count": 45
  },
  {
   "metadata": {},
   "cell_type": "markdown",
   "source": [
    "### 3. Naive Bayes\n",
    "\n",
    "모형의 이름에서 볼 수 있듯이 굉장히 Naive한 모형이다. discrete, continuous한 feature들 모두 사용이 가능하며, sklearn에는 다음과 같은 모형이 존재한다\n",
    "\n",
    "**Discrete Naive Bayes Algorithms**\n",
    "\n",
    "- `sklearn.naive_bayes.BernoulliNB` : 이진(0 또는 1) 값을 갖는 특성에 적합하다. 텍스트 분류에서 단어의 출현 여부를 이진 특성으로 다룰 때 유용하다고 한다\n",
    "- `sklearn.naive_bayes.MultinomialNB` : 주로 텍스트 분류 작업에 사용된다. 이 모델은 특성이 다항 분포를 따른다고 가정한다\n",
    "- `sklearn.naive_bayes.ComplementNB` : 데이터의 분포가 불균형할 때 좋다\n",
    "- `sklearn.naive_bayes.CategoricalNB` : Categorical Distribution을 가정한다. 성능에 대해서는 그리 많이 알려져 있지 않다\n",
    "\n",
    "**Continuous Naive Bayes Algorithm**\n",
    "\n",
    "- `sklearn.naive_bayes.GaussianNB` : 연속적인 값에서 Naive Bayes Classification이 가능하다\n",
    "\n",
    "그 중 Gaussian Naive Bayes 모형은 feature가 연속적인 경우에 사용되며, 패턴 인식에 큰 장점을 보인다. 무엇보다도, 연산 속도가 타 분류 모형에 비해 굉장히 빠르다는 것이 큰 장점이다\n",
    "\n",
    "```\n",
    "sklearn.naive_bayes.GaussianNB(*, priors=None, var_smoothing=1e-09)\n",
    "```\n",
    "\n",
    "단 데이터의 특성이 지수 분포족에 따를 때에만 성능이 좋고, feature간에 조건부독립성이 성립하지 않는다면 분류 결과가 치우쳐질 가능성이 높다"
   ],
   "id": "b616670b8b8162de"
  },
  {
   "metadata": {},
   "cell_type": "markdown",
   "source": [
    "#### 3.1 Bayes' Theorem\n",
    "\n",
    "나이브 베이즈 분류기는 베이즈 정리를 기반으로 동작한다. 베이즈 정리는 다음과 같이 표현된다\n",
    "\n",
    "$$P(C_k | X) = \\frac{P(X | C_k) P(C_k)}{P(X)}$$\n",
    "\n",
    "여기서\n",
    "\n",
    "- $P(C_k | X)$는 주어진 데이터 $X$가 클래스 $C_k$에 속할 조건부 확률 (Posterior)\n",
    "- $P(X | C_k)$는 클래스 $C_k$에서 데이터 $X$가 나올 조건부 확률 (Likelihood)\n",
    "- $P(C_k)$는 클래스 $C_k$에 대한 사전 확률\n",
    "- $P(X)$는 데이터 $X$의 전체 확률 (증거)\n",
    "나이브 베이즈 분류기의 목표는 사후 확률 $P(C_k | X)$를 계산하는 것이다. 사후 확률은 주어진 데이터가 특정 클래스에 속할 확률을 나타낸다."
   ],
   "id": "a7c045c9567cfdfa"
  },
  {
   "metadata": {},
   "cell_type": "markdown",
   "source": [
    "#### 3.2 Conditional Identification\n",
    "\n",
    "나이브 베이즈 분류기의 핵심 가정은 조건부 독립성이다. 즉, 모든 특성 $x_i$는 독립적으로 클래스 $C_k$에 영향을 미친다고 가정한다. 이 가정에 따르면, 데이터 $X = {x_1, x_2, \\dots, x_n}$의 각 특성 $x_i$는 서로 독립적이다. 따라서, 조건부 확률 $P(X | C_k)$는 각 특성의 조건부 확률의 곱으로 표현할 수 있다.\n",
    "\n",
    "$$P(X | C_k) = P(x_1, x_2, \\dots, x_n | C_k) = \\prod_{i=1}^{n} P(x_i | C_k)$$\n",
    "\n",
    "이 식은 데이터의 각 특성이 서로 독립적이라는 가정을 기반으로 한다. 이를 통해 계산이 단순화된다."
   ],
   "id": "93114e345bef1bc5"
  },
  {
   "metadata": {},
   "cell_type": "markdown",
   "source": [
    "#### 3.3 Posterior Probability\n",
    "\n",
    "이제 베이즈 정리에 이 조건부 독립성 가정을 적용하여, 사후 확률 $P(C_k | X)$를 다음과 같이 다시 쓸 수 있다\n",
    "\n",
    "$$P(C_k | X) = \\frac{P(C_k) \\prod_{i=1}^{n} P(x_i | C_k)}{P(X)}$$\n",
    "\n",
    "여기서 $P(X)$는 모든 클래스에 대해 동일하므로, 이를 생략하고 사후 확률은 다음과 같이 비례식으로 표현할 수 있다\n",
    "\n",
    "$$P(C_k | X) \\propto P(C_k) \\prod_{i=1}^{n} P(x_i | C_k)$$\n",
    "\n",
    "따라서, 나이브 베이즈 분류기는 사전 확률 $P(C_k)$와 각 특성 $x_i$가 주어진 클래스 $C_k$에 속할 조건부 확률 $P(x_i | C_k)$의 곱을 계산하여, 각 클래스의 사후 확률을 구하게 된다."
   ],
   "id": "f8ecf055bd5dc1f9"
  },
  {
   "metadata": {},
   "cell_type": "markdown",
   "source": [
    "#### 3.4 Classification Criterion\n",
    "\n",
    "나이브 베이즈 분류기는 각 클래스의 사후 확률을 비교하여 가장 큰 확률을 가지는 클래스를 선택한다. 즉, 다음과 같은 방식을 따른다\n",
    "\n",
    "$$\\hat{C} = \\arg\\max_{C_k} P(C_k) \\prod_{i=1}^{n} P(x_i | C_k)$$\n",
    "\n",
    "이 식에서\n",
    "\n",
    "- $\\hat{C}$는 사후 확률이 가장 큰 클래스를 나타낸다.\n",
    "- MAP (Maximum A Posteriori) 추정 방식에 따라, 가장 큰 사후 확률을 가지는 클래스를 선택한다.\n",
    "\n",
    "나이브 베이즈의 조건부 독립성 가정은 계산을 단순화하지만, 실제 데이터에서 특성 간에 상관관계가 존재하는 경우 이 가정이 잘 맞지 않을 수 있다. 그럼에도 불구하고, 나이브 베이즈는 많은 경우에서 효율적이고 성능이 좋은 분류기로 널리 사용된다."
   ],
   "id": "63d7b8f6e100e058"
  },
  {
   "metadata": {
    "ExecuteTime": {
     "end_time": "2024-09-08T13:28:37.891499Z",
     "start_time": "2024-09-08T13:28:37.838484Z"
    }
   },
   "cell_type": "code",
   "source": [
    "from sklearn.naive_bayes import GaussianNB\n",
    "\n",
    "naive_bayes = GaussianNB()\n",
    "naive_bayes.fit(X, y)"
   ],
   "id": "5e98e1abde2b0de8",
   "outputs": [
    {
     "data": {
      "text/plain": [
       "GaussianNB()"
      ],
      "text/html": [
       "<style>#sk-container-id-2 {color: black;}#sk-container-id-2 pre{padding: 0;}#sk-container-id-2 div.sk-toggleable {background-color: white;}#sk-container-id-2 label.sk-toggleable__label {cursor: pointer;display: block;width: 100%;margin-bottom: 0;padding: 0.3em;box-sizing: border-box;text-align: center;}#sk-container-id-2 label.sk-toggleable__label-arrow:before {content: \"▸\";float: left;margin-right: 0.25em;color: #696969;}#sk-container-id-2 label.sk-toggleable__label-arrow:hover:before {color: black;}#sk-container-id-2 div.sk-estimator:hover label.sk-toggleable__label-arrow:before {color: black;}#sk-container-id-2 div.sk-toggleable__content {max-height: 0;max-width: 0;overflow: hidden;text-align: left;background-color: #f0f8ff;}#sk-container-id-2 div.sk-toggleable__content pre {margin: 0.2em;color: black;border-radius: 0.25em;background-color: #f0f8ff;}#sk-container-id-2 input.sk-toggleable__control:checked~div.sk-toggleable__content {max-height: 200px;max-width: 100%;overflow: auto;}#sk-container-id-2 input.sk-toggleable__control:checked~label.sk-toggleable__label-arrow:before {content: \"▾\";}#sk-container-id-2 div.sk-estimator input.sk-toggleable__control:checked~label.sk-toggleable__label {background-color: #d4ebff;}#sk-container-id-2 div.sk-label input.sk-toggleable__control:checked~label.sk-toggleable__label {background-color: #d4ebff;}#sk-container-id-2 input.sk-hidden--visually {border: 0;clip: rect(1px 1px 1px 1px);clip: rect(1px, 1px, 1px, 1px);height: 1px;margin: -1px;overflow: hidden;padding: 0;position: absolute;width: 1px;}#sk-container-id-2 div.sk-estimator {font-family: monospace;background-color: #f0f8ff;border: 1px dotted black;border-radius: 0.25em;box-sizing: border-box;margin-bottom: 0.5em;}#sk-container-id-2 div.sk-estimator:hover {background-color: #d4ebff;}#sk-container-id-2 div.sk-parallel-item::after {content: \"\";width: 100%;border-bottom: 1px solid gray;flex-grow: 1;}#sk-container-id-2 div.sk-label:hover label.sk-toggleable__label {background-color: #d4ebff;}#sk-container-id-2 div.sk-serial::before {content: \"\";position: absolute;border-left: 1px solid gray;box-sizing: border-box;top: 0;bottom: 0;left: 50%;z-index: 0;}#sk-container-id-2 div.sk-serial {display: flex;flex-direction: column;align-items: center;background-color: white;padding-right: 0.2em;padding-left: 0.2em;position: relative;}#sk-container-id-2 div.sk-item {position: relative;z-index: 1;}#sk-container-id-2 div.sk-parallel {display: flex;align-items: stretch;justify-content: center;background-color: white;position: relative;}#sk-container-id-2 div.sk-item::before, #sk-container-id-2 div.sk-parallel-item::before {content: \"\";position: absolute;border-left: 1px solid gray;box-sizing: border-box;top: 0;bottom: 0;left: 50%;z-index: -1;}#sk-container-id-2 div.sk-parallel-item {display: flex;flex-direction: column;z-index: 1;position: relative;background-color: white;}#sk-container-id-2 div.sk-parallel-item:first-child::after {align-self: flex-end;width: 50%;}#sk-container-id-2 div.sk-parallel-item:last-child::after {align-self: flex-start;width: 50%;}#sk-container-id-2 div.sk-parallel-item:only-child::after {width: 0;}#sk-container-id-2 div.sk-dashed-wrapped {border: 1px dashed gray;margin: 0 0.4em 0.5em 0.4em;box-sizing: border-box;padding-bottom: 0.4em;background-color: white;}#sk-container-id-2 div.sk-label label {font-family: monospace;font-weight: bold;display: inline-block;line-height: 1.2em;}#sk-container-id-2 div.sk-label-container {text-align: center;}#sk-container-id-2 div.sk-container {/* jupyter's `normalize.less` sets `[hidden] { display: none; }` but bootstrap.min.css set `[hidden] { display: none !important; }` so we also need the `!important` here to be able to override the default hidden behavior on the sphinx rendered scikit-learn.org. See: https://github.com/scikit-learn/scikit-learn/issues/21755 */display: inline-block !important;position: relative;}#sk-container-id-2 div.sk-text-repr-fallback {display: none;}</style><div id=\"sk-container-id-2\" class=\"sk-top-container\"><div class=\"sk-text-repr-fallback\"><pre>GaussianNB()</pre><b>In a Jupyter environment, please rerun this cell to show the HTML representation or trust the notebook. <br />On GitHub, the HTML representation is unable to render, please try loading this page with nbviewer.org.</b></div><div class=\"sk-container\" hidden><div class=\"sk-item\"><div class=\"sk-estimator sk-toggleable\"><input class=\"sk-toggleable__control sk-hidden--visually\" id=\"sk-estimator-id-2\" type=\"checkbox\" checked><label for=\"sk-estimator-id-2\" class=\"sk-toggleable__label sk-toggleable__label-arrow\">GaussianNB</label><div class=\"sk-toggleable__content\"><pre>GaussianNB()</pre></div></div></div></div></div>"
      ]
     },
     "execution_count": 37,
     "metadata": {},
     "output_type": "execute_result"
    }
   ],
   "execution_count": 37
  },
  {
   "metadata": {
    "ExecuteTime": {
     "end_time": "2024-09-08T13:28:38.495026Z",
     "start_time": "2024-09-08T13:28:38.474151Z"
    }
   },
   "cell_type": "code",
   "source": [
    "y_pred = naive_bayes.predict(X)\n",
    "accuracy = accuracy_score(y, y_pred)\n",
    "print(f'Accuracy: {accuracy}')"
   ],
   "id": "d11bfc5c72772273",
   "outputs": [
    {
     "name": "stdout",
     "output_type": "stream",
     "text": [
      "Accuracy: 0.6369047619047619\n"
     ]
    }
   ],
   "execution_count": 38
  },
  {
   "metadata": {
    "ExecuteTime": {
     "end_time": "2024-09-08T13:29:04.706877Z",
     "start_time": "2024-09-08T13:29:04.677016Z"
    }
   },
   "cell_type": "code",
   "source": "print(classification_report(y, y_pred))",
   "id": "d71d5c870c016bf4",
   "outputs": [
    {
     "name": "stdout",
     "output_type": "stream",
     "text": [
      "              precision    recall  f1-score   support\n",
      "\n",
      "           0       0.64      0.97      0.77       104\n",
      "           1       0.67      0.09      0.16        64\n",
      "\n",
      "    accuracy                           0.64       168\n",
      "   macro avg       0.65      0.53      0.47       168\n",
      "weighted avg       0.65      0.64      0.54       168\n",
      "\n"
     ]
    }
   ],
   "execution_count": 39
  },
  {
   "metadata": {
    "ExecuteTime": {
     "end_time": "2024-09-08T13:30:00.795454Z",
     "start_time": "2024-09-08T13:30:00.704295Z"
    }
   },
   "cell_type": "code",
   "source": [
    "cm = confusion_matrix(y, y_pred)\n",
    "plt.figure(figsize = (3, 3))\n",
    "sns.heatmap(cm, annot = True, fmt = 'd', cbar = False)\n",
    "plt.xlabel('Predicted')\n",
    "plt.ylabel('True')\n",
    "plt.title('Confusion Matrix')\n",
    "plt.show()"
   ],
   "id": "8c6a508a56028e2d",
   "outputs": [
    {
     "data": {
      "text/plain": [
       "<Figure size 300x300 with 1 Axes>"
      ],
      "image/png": "[encoded data removed]"
     },
     "metadata": {},
     "output_type": "display_data"
    }
   ],
   "execution_count": 41
  },
  {
   "metadata": {
    "ExecuteTime": {
     "end_time": "2024-09-08T13:31:41.199153Z",
     "start_time": "2024-09-08T13:31:41.043218Z"
    }
   },
   "cell_type": "code",
   "source": [
    "\n",
    "y_prob = naive_bayes.fit(X, y).predict_proba(X)[:, 1]\n",
    "\n",
    "fpr, tpr, thresholds = roc_curve(y, y_prob)\n",
    "roc_auc = auc(fpr, tpr)\n",
    "\n",
    "fig, ax = plt.subplots(figsize = (8, 5))\n",
    "ax.plot(fpr, tpr, label = f'Naive Bayes (AUC : {roc_auc : .2f})', alpha = 0.8)\n",
    "ax.plot([0, 1], [0, 1], 'k:')\n",
    "for spine in ax.spines.values():\n",
    "    spine.set_visible(False)\n",
    "ax.grid(False)\n",
    "plt.xlabel('False Positive Rate')\n",
    "plt.ylabel('True Positive Rate')\n",
    "ax.yaxis.grid(True, ls = ':', alpha = 0.5) \n",
    "plt.legend()\n",
    "plt.title('ROC Curve with Naive Bayes')\n",
    "plt.show()"
   ],
   "id": "435574601a2520af",
   "outputs": [
    {
     "data": {
      "text/plain": [
       "<Figure size 800x500 with 1 Axes>"
      ],
      "image/png": "[encoded data removed]"
     },
     "metadata": {},
     "output_type": "display_data"
    }
   ],
   "execution_count": 43
  }
 ],
 "metadata": {
  "kernelspec": {
   "display_name": "Python 3",
   "language": "python",
   "name": "python3"
  },
  "language_info": {
   "codemirror_mode": {
    "name": "ipython",
    "version": 2
   },
   "file_extension": ".py",
   "mimetype": "text/x-python",
   "name": "python",
   "nbconvert_exporter": "python",
   "pygments_lexer": "ipython2",
   "version": "2.7.6"
  }
 },
 "nbformat": 4,
 "nbformat_minor": 5
}
