{
 "cells": [
  {
   "metadata": {},
   "cell_type": "markdown",
   "source": [
    "### Regularized Linear Models\n",
    "\n",
    "일반적으로 statsmodels와 sklearn에서의 Linear Model들은 다음과 같은 부분에서 문제점이 발생한다\n",
    "\n",
    "1. 모형이 데이터 의존적이다. 학습 데이터의 품질에 따라 편향이 심할 수도 있다.\n",
    "2. 데이터의 수가 모형의 복잡도에 비해 적은 경우, Overfitting의 문제가 심각해진다\n",
    "\n",
    "이러한 문제들을 해결하기 위해, 다음과 같은 모형들이 제안되었다."
   ],
   "id": "71a6d2cc4f4694f9"
  },
  {
   "metadata": {},
   "cell_type": "markdown",
   "source": [
    "#### 1. Linear Model Optimization\n",
    "\n",
    "OLS Regression (Linear Model)을 다시 한 번 살펴보자\n",
    "\n",
    "$$\\mathbf{y}_i = \\mathbf{\\beta}_i \\mathbf{x}_i + \\mathbf{\\epsilon}_i$$\n",
    "\n",
    "최소제곱법을 활용해 Optimization을 수행하는데, 이는 다음과 같은 최적화 문제로 풀 수 있다\n",
    "\n",
    "$$\\min \\sum_{i=0}^N (\\mathbf{y}_i - \\mathbf{\\hat {y}}_i)^2$$\n",
    "$$= \\min \\sum_{i=0}^N (\\mathbf{y}_i - \\mathbf{x}_i\\mathbf{\\beta}_i)^2$$\n",
    "\n",
    "y에 대한 2차식이기 때문에, 도함수를 활용하여 다음과 같이 최적해를 계산할 수 있다\n",
    "\n",
    "$$\\frac{\\partial}{\\partial \\beta_i} \\mathrm{MSE(\\beta_i)} = \\frac{2}{N} \\sum_{i=0}^N (\\mathbf{y}_i - \\mathbf{x}_i\\mathbf{\\beta}_i)\\mathbf{\\beta}_i$$"
   ],
   "id": "b8a9a93407644f49"
  },
  {
   "metadata": {},
   "cell_type": "markdown",
   "source": [
    "#### 2. Ridge Regression\n",
    "\n",
    "Ridge Regression은 1970년대 회귀모형의 일반화 성능을 향상시키기 위해 Hoerl와 Kennard에 의해 처음으로 소개되었다. MSE에 일정한 Penalty를 부과하여 적합화가 덜 되도록 유도한다\n",
    "\n",
    "$$\\min \\sum_{i=0}^N (\\mathbf{y}_i - \\mathbf{x}_i\\mathbf{\\beta}_i)^2 + \\frac{\\alpha}{2} \\sum_{i=0}^N \\beta_i^2$$\n",
    "\n",
    "Machine Learing에서는 이를 흔히 **L2 Reguralization (L2 정규화)** 라고 한다. 선형 모형에서는 대부분 Hyper Parameter로 지정 가능하다\n",
    "\n",
    "```\n",
    "sklearn.linear_model.Ridge(\n",
    "    alpha=1.0, *, \n",
    "    fit_intercept=True, \n",
    "    copy_X=True, \n",
    "    max_iter=None, \n",
    "    tol=0.0001, \n",
    "    solver='auto', \n",
    "    positive=False, \n",
    "    random_state=None\n",
    ")\n",
    "```"
   ],
   "id": "f16908913d6d2d57"
  },
  {
   "metadata": {},
   "cell_type": "markdown",
   "source": [
    "#### 3. Lasso Regression\n",
    "\n",
    "Lasso Regression은 1996년에 Robert Tibshirani에 의해 처음으로 제안된 모형이다. 최적화 과정에서 규제항을 추가해 일부 계수를 0으로 추정되도록 규제한다. 이는 일종의 변수 선택 효과라고 해석해도 좋다\n",
    "\n",
    "$$\\min \\sum_{i=0}^N (\\mathbf{y}_i - \\mathbf{x}_i\\mathbf{\\beta}_i)^2 + \\alpha \\sum_{i=0}^N |\\beta_i|$$\n",
    "\n",
    "Machine Learing에서는 이를 흔히 **L1 Reguralization (L1 정규화)** 라고 한다. Ridge Regression과 마찬가지로 선형 모형에서 대부분 Hyper Parameter로 지정 가능하다\n",
    "\n",
    "```\n",
    "sklearn.linear_model.Lasso(\n",
    "    alpha=1.0, *, \n",
    "    fit_intercept=True, \n",
    "    precompute=False, \n",
    "    copy_X=True, \n",
    "    max_iter=1000, \n",
    "    tol=0.0001, \n",
    "    warm_start=False, \n",
    "    positive=False, \n",
    "    random_state=None, \n",
    "    selection='cyclic'\n",
    ")\n",
    "```"
   ],
   "id": "9f4c295445e4d48c"
  },
  {
   "metadata": {},
   "cell_type": "markdown",
   "source": [
    "#### 4. Elastic Net Regression\n",
    "\n",
    "Elastic Net은 Ridge와 Lasso를 모두 절충한 선형 모형이다. 다음과 같이 최적화를 수행한다.\n",
    "\n",
    "$$\\min \\sum_{i=0}^N (\\mathbf{y}_i - \\mathbf{x}_i\\mathbf{\\beta}_i)^2 + r\\alpha \\sum_{i=0}^N |\\beta_i| + \\frac{(1-r)\\alpha}{2} \\sum_{i=0}^N \\beta_i^2$$\n",
    "\n",
    "```\n",
    "sklearn.linear_model.ElasticNet(\n",
    "    alpha=1.0, *, \n",
    "    l1_ratio=0.5, \n",
    "    fit_intercept=True, \n",
    "    precompute=False, \n",
    "    max_iter=1000, \n",
    "    copy_X=True, \n",
    "    tol=0.0001, \n",
    "    warm_start=False, \n",
    "    positive=False, \n",
    "    random_state=None, \n",
    "    selection='cyclic'\n",
    ")\n",
    "```\n",
    "\n",
    "식에서 $r$은 L1 규제를 얼마나 할지 비율을 정하는 Hyperparameter이며, sklearn의 ElasticNet에서는 `l1_ratio`로 지정할 수 있다"
   ],
   "id": "578a14ee6f206e58"
  },
  {
   "cell_type": "code",
   "execution_count": null,
   "id": "initial_id",
   "metadata": {
    "collapsed": true
   },
   "outputs": [],
   "source": [
    ""
   ]
  }
 ],
 "metadata": {
  "kernelspec": {
   "display_name": "Python 3",
   "language": "python",
   "name": "python3"
  },
  "language_info": {
   "codemirror_mode": {
    "name": "ipython",
    "version": 2
   },
   "file_extension": ".py",
   "mimetype": "text/x-python",
   "name": "python",
   "nbconvert_exporter": "python",
   "pygments_lexer": "ipython2",
   "version": "2.7.6"
  }
 },
 "nbformat": 4,
 "nbformat_minor": 5
}
