{
 "cells": [
  {
   "metadata": {},
   "cell_type": "markdown",
   "source": [
    "### Averaging Active Bets\n",
    "\n",
    "모든 베팅은 보유 기간과 연계돼 있어 처음 투자 아이디어 생성 시간과 최초로 배리어에 도달한 시간 사이의 간격 `t1`이 존재한다. 한 가지 방법은 새로운 베팅이 도착하면 이전 베팅을 덮어쓰는 것인데, 이 방법은 과도한 포트폴리오 Turnover를 유발할 가능성이 있다. 보다 합리적인 방법은 주어진 시간에 실행 중인 모든 베팅의 크기를 평균화하는 것이다. 아래의 코드는 이를 구현하는 한 가지 방법을 보여 준다."
   ],
   "id": "8487edebdeadd216"
  },
  {
   "cell_type": "code",
   "execution_count": null,
   "id": "initial_id",
   "metadata": {
    "collapsed": true
   },
   "outputs": [],
   "source": [
    ""
   ]
  },
  {
   "metadata": {},
   "cell_type": "markdown",
   "source": [
    "### Size Discretization\n",
    "\n",
    "평균화하면 불필요한 포트폴리오 회전율을 일부 감소시킬 수 있지만, 여전히 모든 예측마다 작은 거래들이 촉발될 수 있다. 이로 인한 불규칙 파형이 불필요한 과도 트레이딩을 유발할 수 있으므로 베팅 크기를 $m^* = \\text{round} \\left[ \\frac{m}{d}\\right]d$, 여기서 $d \\in (0, 1]$로 이산화할 것을 제안한다. 아래의 그림은 베팅 크기의 이산화를 보여 준다."
   ],
   "id": "45d8d50964703fba"
  },
  {
   "metadata": {},
   "cell_type": "code",
   "outputs": [],
   "execution_count": null,
   "source": "",
   "id": "ad30404714272ade"
  }
 ],
 "metadata": {
  "kernelspec": {
   "display_name": "Python 3",
   "language": "python",
   "name": "python3"
  },
  "language_info": {
   "codemirror_mode": {
    "name": "ipython",
    "version": 2
   },
   "file_extension": ".py",
   "mimetype": "text/x-python",
   "name": "python",
   "nbconvert_exporter": "python",
   "pygments_lexer": "ipython2",
   "version": "2.7.6"
  }
 },
 "nbformat": 4,
 "nbformat_minor": 5
}
