{
 "cells": [
  {
   "metadata": {},
   "cell_type": "markdown",
   "source": [
    "### The Cross Validation Method\n",
    "\n",
    "투자가들은 종종 2008년의 금융 위기나 닷컴 버블, 긴축 발작, 2015~2016년 중국 주식 시장 요동 등과 같은 전례 없는 스트레스 시나리오에 처한다면 투자 전략의 성과가 어떻게 되는지를 묻고는 한다. 이에 대한 대답 중 하나는 관측값을 두 가지 집합으로 나눠 하나는 테스트하려는 기간으로 설정하고, 다른 하나는 훈련셋으로 설정하는 것이다. 분류기가 2009년 1월 1일에서 2017년 1월 1일까지 학습 했다면 테스트는 2008년 1월 1일에서 2008년 12월 31일에 대해 수행한다. 2008년에 얻어진 성과는 역사적으로 정확하지 않다. 이유는 분류기가 2008년 이후의 데이터에 대해서만 학습됐기 때문이다. 그러나 역사적 정확도는 이 테스트의 목적이 아니다. 목표는 2008년도 내용을 모르는 전략을 2008년과 같은 스트레스 시나리오에 테스트해 보는 것이다.\n",
    "\n",
    "Cross Validation을 활용한 백테스트의 목표는 역사적으로 정확한 성과를 도출하려는 것이 아니라 다수의 샘플 외 시나리오로부터 미래의 성과를 추론하는 것이다. 백테스트의 각 기간 동안, 그 기간 이외의 모든 것을 알고 있는 분류기로 성과를 시뮬레이션한다."
   ],
   "id": "5986b41090b520eb"
  },
  {
   "cell_type": "code",
   "execution_count": null,
   "id": "initial_id",
   "metadata": {
    "collapsed": true
   },
   "outputs": [],
   "source": [
    ""
   ]
  }
 ],
 "metadata": {
  "kernelspec": {
   "display_name": "Python 3",
   "language": "python",
   "name": "python3"
  },
  "language_info": {
   "codemirror_mode": {
    "name": "ipython",
    "version": 2
   },
   "file_extension": ".py",
   "mimetype": "text/x-python",
   "name": "python",
   "nbconvert_exporter": "python",
   "pygments_lexer": "ipython2",
   "version": "2.7.6"
  }
 },
 "nbformat": 4,
 "nbformat_minor": 5
}
